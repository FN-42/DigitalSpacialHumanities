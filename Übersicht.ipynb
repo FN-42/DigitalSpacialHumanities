{
 "cells": [
  {
   "cell_type": "code",
   "id": "initial_id",
   "metadata": {
    "collapsed": true,
    "ExecuteTime": {
     "end_time": "2025-06-25T09:13:20.259699Z",
     "start_time": "2025-06-25T09:13:19.237059Z"
    }
   },
   "source": "import pandas as pd",
   "outputs": [],
   "execution_count": 1
  },
  {
   "metadata": {
    "ExecuteTime": {
     "end_time": "2025-06-25T09:54:01.153250Z",
     "start_time": "2025-06-25T09:54:01.132795Z"
    }
   },
   "cell_type": "code",
   "source": [
    "df = pd.read_csv(\"unfallatlasleipzig20162020.csv\")\n",
    "print(df.head())"
   ],
   "id": "6c8b214819de4b86",
   "outputs": [
    {
     "name": "stdout",
     "output_type": "stream",
     "text": [
      "   OBJECTID  ULAND  UREGBEZ  UKREIS  UGEMEINDE  UJAHR  UMONAT  USTUNDE  \\\n",
      "0     43791     14        7      13          0   2016       1        6   \n",
      "1     43837     14        7      13          0   2016       1       13   \n",
      "2     43862     14        7      13          0   2016       1       10   \n",
      "3     43863     14        7      13          0   2016       1       10   \n",
      "4     43919     14        7      13          0   2016       1       15   \n",
      "\n",
      "   UWOCHENTAG  UKATEGORIE  UART  UTYP1  IstStrasse  IstRad  IstPKW  IstFuss  \\\n",
      "0           6           3     5      2           0       1       1        0   \n",
      "1           6           2     5      3           0       1       1        0   \n",
      "2           5           3     2      6           1       1       1        0   \n",
      "3           5           3     0      1           2       1       0        0   \n",
      "4           3           3     5      3           0       1       1        0   \n",
      "\n",
      "   IstKrad  IstSonstig  XGCSWGS84  YGCSWGS84  \n",
      "0        0           0  12.290313  51.392852  \n",
      "1        0           0  12.379763  51.343968  \n",
      "2        0           0  12.262832  51.347945  \n",
      "3        0           0  12.395376  51.341092  \n",
      "4        0           0  12.356039  51.341455  \n"
     ]
    }
   ],
   "execution_count": 3
  },
  {
   "metadata": {},
   "cell_type": "code",
   "outputs": [],
   "execution_count": null,
   "source": "",
   "id": "91574debfb4d09d9"
  }
 ],
 "metadata": {
  "kernelspec": {
   "display_name": "Python 3",
   "language": "python",
   "name": "python3"
  },
  "language_info": {
   "codemirror_mode": {
    "name": "ipython",
    "version": 2
   },
   "file_extension": ".py",
   "mimetype": "text/x-python",
   "name": "python",
   "nbconvert_exporter": "python",
   "pygments_lexer": "ipython2",
   "version": "2.7.6"
  }
 },
 "nbformat": 4,
 "nbformat_minor": 5
}
